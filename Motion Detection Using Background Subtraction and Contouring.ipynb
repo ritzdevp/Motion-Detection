{
 "cells": [
  {
   "cell_type": "code",
   "execution_count": 36,
   "metadata": {
    "collapsed": true
   },
   "outputs": [],
   "source": [
    "import datetime\n",
    "import imutils\n",
    "import cv2       "
   ]
  },
  {
   "cell_type": "code",
   "execution_count": 37,
   "metadata": {
    "collapsed": true
   },
   "outputs": [],
   "source": [
    "cap = cv2.VideoCapture('cartheft2.mp4')\n",
    "#cap = cv2.VideoCapture(0)\n",
    "#cap = cv2.VideoCapture('handmovement.mp4')"
   ]
  },
  {
   "cell_type": "code",
   "execution_count": 38,
   "metadata": {
    "collapsed": true
   },
   "outputs": [],
   "source": [
    "firstframe = None"
   ]
  },
  {
   "cell_type": "code",
   "execution_count": 39,
   "metadata": {
    "collapsed": true
   },
   "outputs": [],
   "source": [
    "while True:\n",
    "    (grabbed, frame) = cap.read()\n",
    "    text = \"\"\n",
    "    \n",
    "    if not grabbed:\n",
    "        break\n",
    "        \n",
    "    frame = imutils.resize(frame, width=500)\n",
    "    gray = cv2.cvtColor(frame, cv2.COLOR_BGR2GRAY)\n",
    "    gray = cv2.GaussianBlur(gray, (21, 21), 0)\n",
    "    \n",
    "    if firstframe is None:\n",
    "        firstframe = gray\n",
    "        continue\n",
    "        \n",
    "    frameDelta = cv2.absdiff(firstframe, gray)\n",
    "    ret,thresh = cv2.threshold(frameDelta,50,255,cv2.THRESH_BINARY)\n",
    "    thresh = cv2.dilate(thresh, None, iterations=2)\n",
    "    #image, contours, hierarchy  =   cv2.findContours(thresh.copy(),cv2.RETR_LIST,cv2.CHAIN_APPROX_SIMPLE)\n",
    "    image, contours, hierarchy  =   cv2.findContours(thresh.copy(),cv2.RETR_LIST,cv2.CHAIN_APPROX_SIMPLE)\n",
    "    \n",
    "    for c in contours:\n",
    "        # if the contour is too small, ignore it\n",
    "        if cv2.contourArea(c) < 500:\n",
    "            continue\n",
    " \n",
    "        # compute the bounding box for the contour, draw it on the frame,\n",
    "        # and update the text\n",
    "        (x, y, w, h) = cv2.boundingRect(c)\n",
    "        cv2.rectangle(frame, (x, y), (x + w, y + h), (0, 255, 0), 2)\n",
    "        cv2.rectangle(frameDelta, (x, y), (x + w, y + h), (0, 255, 0), 2)\n",
    "        text = \"MOVEMENT DETECTED\"\n",
    "        \n",
    "    # draw the text and timestamp on the frame\n",
    "    cv2.putText(frame, \"Status: {}\".format(text), (10, 20),cv2.FONT_HERSHEY_SIMPLEX, 0.5, (0, 0, 255), 2)\n",
    "    cv2.putText(frame, datetime.datetime.now().strftime(\"%A %d %B %Y %I:%M:%S%p\"),\n",
    "                (10, frame.shape[0] - 10), cv2.FONT_HERSHEY_SIMPLEX, 0.35, (0, 0, 255), 1)\n",
    " \n",
    "    # show the frame and record if the user presses a key\n",
    "    cv2.imshow(\"Original Video\", frame)\n",
    "    cv2.imshow(\"Thresh\", thresh)\n",
    "    cv2.imshow(\"Frame Difference\", frameDelta)\n",
    "    key = cv2.waitKey(1) & 0xFF\n",
    " \n",
    "    # if the `q` key is pressed, break from the lop\n",
    "    if key == ord(\"q\"):\n",
    "        break"
   ]
  },
  {
   "cell_type": "code",
   "execution_count": 40,
   "metadata": {
    "collapsed": true
   },
   "outputs": [],
   "source": [
    "cap.release()\n",
    "cv2.destroyAllWindows()"
   ]
  },
  {
   "cell_type": "code",
   "execution_count": null,
   "metadata": {
    "collapsed": true
   },
   "outputs": [],
   "source": []
  }
 ],
 "metadata": {
  "kernelspec": {
   "display_name": "Python 3",
   "language": "python",
   "name": "python3"
  },
  "language_info": {
   "codemirror_mode": {
    "name": "ipython",
    "version": 3
   },
   "file_extension": ".py",
   "mimetype": "text/x-python",
   "name": "python",
   "nbconvert_exporter": "python",
   "pygments_lexer": "ipython3",
   "version": "3.6.2"
  }
 },
 "nbformat": 4,
 "nbformat_minor": 2
}
